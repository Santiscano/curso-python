{
 "cells": [
  {
   "cell_type": "code",
   "execution_count": 18,
   "id": "995ee76a",
   "metadata": {},
   "outputs": [
    {
     "data": {
      "text/plain": [
       "0.5"
      ]
     },
     "execution_count": 18,
     "metadata": {},
     "output_type": "execute_result"
    }
   ],
   "source": [
    "import pandas as p\n",
    "from sklearn.tree import DecisionTreeClassifier\n",
    "from sklearn.model_selection import train_test_split\n",
    "from sklearn.metrics import accuracy_score\n",
    "\n",
    "# tomamos y dividimos los datos\n",
    "data_juegos = p.read_csv(\"juegos-ml.csv\") # tomamos la data en esta variable\n",
    "x = data_juegos.drop(columns=[\"juegos\"]) # Input - quitamos los datos que seran el resultado del algoritmo es decir aqui estaran los datos que se usaran para analizar\n",
    "y = data_juegos[\"juegos\"] # Output - aqui estarn solo el resultado de el analisis\n",
    "\n",
    "# luego de dividir los datos llamamos esta funcion, la cual le entregammos los datos y luego los resultados \n",
    "# luego de eso se le pasa un argumento nombrado que nos permite indicarle como queremos dividir estos datos en el cual le indicamos el % de datos de prueba\n",
    "# recomendacion es 80% datos para entrenarlo, 20% probar si el modelo tiene los resultados adecuados\n",
    "# esto retorna una tupla la cual se desempaqueta con datos de entrenamiento y prueba\n",
    "X_entrenar, X_prueba, y_entrenar, y_prueba = train_test_split(x.values, y, test_size=0.2)\n",
    "\n",
    "modelo = DecisionTreeClassifier() # modelo\n",
    "# modelo.fit(x.values, y) # le entregamos los datos de entrada y salida, estos no deben contener los cabeceros por eso x tiene el .values\n",
    "modelo.fit(X_entrenar, y_entrenar) # aqui entregamos datos de entrenamiento, tanto valores como resultado\n",
    "\n",
    "# para mejorar las predicciones no solo se le entregan datos de test sino que tambien se le entregaran los datos de prueba de x\n",
    "predicciones = modelo.predict(X_prueba)\n",
    "# predicciones = modelo.predict([[14,0], [29, 0],[30, 0]]) # enviamos datos de prueba para predecir\n",
    "# predicciones\n",
    "\n",
    "# devuelve un valor entre 0 y 1 si es equivocado o acertado\n",
    "# los parametros que se entregan son los resultados de pruebas y los resultados de predicciones del modelo\n",
    "puntaje = accuracy_score(y_prueba, predicciones)\n",
    "puntaje"
   ]
  },
  {
   "cell_type": "code",
   "execution_count": 21,
   "id": "1e3fdc0c",
   "metadata": {},
   "outputs": [
    {
     "data": {
      "text/plain": [
       "array(['fps'], dtype=object)"
      ]
     },
     "execution_count": 21,
     "metadata": {},
     "output_type": "execute_result"
    }
   ],
   "source": [
    "import pandas as p\n",
    "from sklearn.tree import DecisionTreeClassifier\n",
    "import joblib\n",
    "\n",
    "# # cargar datos\n",
    "# data_juegos = p.read_csv(\"juegos-ml.csv\")\n",
    "# x = data_juegos.drop(columns=[\"juegos\"])\n",
    "# y = data_juegos[\"juegos\"]\n",
    "\n",
    "# # entrenar modelo\n",
    "# modelo = DecisionTreeClassifier()\n",
    "# modelo.fit(x.values, y)\n",
    "\n",
    "# # persistir modelo\n",
    "# joblib.dump(modelo, \"recomendador-juegos.joblib\")\n",
    "\n",
    "# despues de guardar el modelo y que se cree el archivo lo que sigue es cargarlo - por eso todo esta comentado, solo se uso para crearlo\n",
    "modelo = joblib.load(\"recomendador-juegos.joblib\")\n",
    "predicciones = modelo.predict([ [14, 0] ])\n",
    "predicciones"
   ]
  },
  {
   "cell_type": "code",
   "execution_count": null,
   "id": "185577b0",
   "metadata": {},
   "outputs": [],
   "source": []
  },
  {
   "cell_type": "code",
   "execution_count": null,
   "id": "baea2485",
   "metadata": {},
   "outputs": [],
   "source": []
  }
 ],
 "metadata": {
  "kernelspec": {
   "display_name": "Python 3 (ipykernel)",
   "language": "python",
   "name": "python3"
  },
  "language_info": {
   "codemirror_mode": {
    "name": "ipython",
    "version": 3
   },
   "file_extension": ".py",
   "mimetype": "text/x-python",
   "name": "python",
   "nbconvert_exporter": "python",
   "pygments_lexer": "ipython3",
   "version": "3.11.4"
  }
 },
 "nbformat": 4,
 "nbformat_minor": 5
}
